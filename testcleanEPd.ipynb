{
 "cells": [
  {
   "cell_type": "code",
   "execution_count": 3,
   "metadata": {},
   "outputs": [
    {
     "name": "stdout",
     "output_type": "stream",
     "text": [
      "Collecting polars\n",
      "  Downloading polars-1.17.1-cp39-abi3-manylinux_2_17_x86_64.manylinux2014_x86_64.whl.metadata (14 kB)\n",
      "Downloading polars-1.17.1-cp39-abi3-manylinux_2_17_x86_64.manylinux2014_x86_64.whl (36.4 MB)\n",
      "\u001b[2K   \u001b[90m━━━━━━━━━━━━━━━━━━━━━━━━━━━━━━━━━━━━━━━━\u001b[0m \u001b[32m36.4/36.4 MB\u001b[0m \u001b[31m25.3 MB/s\u001b[0m eta \u001b[36m0:00:00\u001b[0m00:01\u001b[0m00:01\u001b[0m\n",
      "\u001b[?25hInstalling collected packages: polars\n",
      "Successfully installed polars-1.17.1\n",
      "Note: you may need to restart the kernel to use updated packages.\n"
     ]
    }
   ],
   "source": [
    "# open the Employe_Performance_dataset\n",
    "%pip install polars"
   ]
  },
  {
   "cell_type": "code",
   "execution_count": 6,
   "metadata": {},
   "outputs": [
    {
     "data": {
      "text/html": [
       "<div><style>\n",
       ".dataframe > thead > tr,\n",
       ".dataframe > tbody > tr {\n",
       "  text-align: right;\n",
       "  white-space: pre-wrap;\n",
       "}\n",
       "</style>\n",
       "<small>shape: (1_000, 12)</small><table border=\"1\" class=\"dataframe\"><thead><tr><th>ID</th><th>Name</th><th>Age</th><th>Gender</th><th>Department</th><th>Salary</th><th>Joining Date</th><th>Performance Score</th><th>Experience</th><th>Status</th><th>Location</th><th>Session</th></tr><tr><td>i64</td><td>str</td><td>i64</td><td>str</td><td>str</td><td>i64</td><td>str</td><td>f64</td><td>i64</td><td>str</td><td>str</td><td>str</td></tr></thead><tbody><tr><td>1</td><td>&quot;Cory Escobar&quot;</td><td>48</td><td>&quot;Female&quot;</td><td>&quot;HR&quot;</td><td>5641</td><td>&quot;2015-05-03&quot;</td><td>2.0</td><td>16</td><td>&quot;Active&quot;</td><td>&quot;New York&quot;</td><td>&quot;Night&quot;</td></tr><tr><td>2</td><td>&quot;Timothy Sanchez&quot;</td><td>25</td><td>&quot;Other&quot;</td><td>&quot;Sales&quot;</td><td>4249</td><td>&quot;2020-11-09&quot;</td><td>2.0</td><td>11</td><td>&quot;Inactive&quot;</td><td>&quot;Los Angeles&quot;</td><td>&quot;Evening&quot;</td></tr><tr><td>3</td><td>&quot;Chad Nichols&quot;</td><td>57</td><td>&quot;Other&quot;</td><td>&quot;Sales&quot;</td><td>3058</td><td>&quot;2019-02-12&quot;</td><td>null</td><td>1</td><td>&quot;Inactive&quot;</td><td>&quot;New York&quot;</td><td>&quot;Morning&quot;</td></tr><tr><td>4</td><td>&quot;Christine Williams&quot;</td><td>58</td><td>&quot;Female&quot;</td><td>&quot;IT&quot;</td><td>5895</td><td>&quot;2017-09-08&quot;</td><td>2.0</td><td>13</td><td>&quot;Inactive&quot;</td><td>&quot;Los Angeles&quot;</td><td>&quot;Evening&quot;</td></tr><tr><td>5</td><td>&quot;Amber Harris&quot;</td><td>35</td><td>&quot;Other&quot;</td><td>&quot;IT&quot;</td><td>4317</td><td>&quot;2020-02-15&quot;</td><td>5.0</td><td>16</td><td>&quot;Inactive&quot;</td><td>&quot;New York&quot;</td><td>&quot;Evening&quot;</td></tr><tr><td>&hellip;</td><td>&hellip;</td><td>&hellip;</td><td>&hellip;</td><td>&hellip;</td><td>&hellip;</td><td>&hellip;</td><td>&hellip;</td><td>&hellip;</td><td>&hellip;</td><td>&hellip;</td><td>&hellip;</td></tr><tr><td>996</td><td>&quot;Pamela Reeves&quot;</td><td>49</td><td>&quot;Female&quot;</td><td>&quot;Sales&quot;</td><td>7652</td><td>&quot;2024-06-23&quot;</td><td>4.0</td><td>3</td><td>&quot;Active&quot;</td><td>&quot;Los Angeles&quot;</td><td>&quot;Evening&quot;</td></tr><tr><td>997</td><td>&quot;Todd Johnson&quot;</td><td>29</td><td>&quot;Female&quot;</td><td>&quot;Sales&quot;</td><td>6754</td><td>&quot;2018-07-20&quot;</td><td>null</td><td>12</td><td>&quot;Inactive&quot;</td><td>&quot;New York&quot;</td><td>&quot;Morning&quot;</td></tr><tr><td>998</td><td>&quot;Michael Sanchez&quot;</td><td>18</td><td>&quot;Male&quot;</td><td>&quot;Sales&quot;</td><td>5278</td><td>&quot;2023-07-05&quot;</td><td>5.0</td><td>3</td><td>&quot;Active&quot;</td><td>&quot;New York&quot;</td><td>&quot;Morning&quot;</td></tr><tr><td>999</td><td>&quot;Ashley Taylor&quot;</td><td>51</td><td>&quot;Female&quot;</td><td>&quot;IT&quot;</td><td>5437</td><td>&quot;2022-02-18&quot;</td><td>4.0</td><td>9</td><td>&quot;Inactive&quot;</td><td>&quot;Los Angeles&quot;</td><td>&quot;Evening&quot;</td></tr><tr><td>1000</td><td>&quot;Shawn Scott&quot;</td><td>45</td><td>&quot;Male&quot;</td><td>&quot;IT&quot;</td><td>7364</td><td>&quot;2022-07-31&quot;</td><td>2.0</td><td>4</td><td>&quot;Active&quot;</td><td>&quot;New York&quot;</td><td>&quot;Morning&quot;</td></tr></tbody></table></div>"
      ],
      "text/plain": [
       "shape: (1_000, 12)\n",
       "┌──────┬────────────────────┬─────┬────────┬───┬────────────┬──────────┬─────────────┬─────────┐\n",
       "│ ID   ┆ Name               ┆ Age ┆ Gender ┆ … ┆ Experience ┆ Status   ┆ Location    ┆ Session │\n",
       "│ ---  ┆ ---                ┆ --- ┆ ---    ┆   ┆ ---        ┆ ---      ┆ ---         ┆ ---     │\n",
       "│ i64  ┆ str                ┆ i64 ┆ str    ┆   ┆ i64        ┆ str      ┆ str         ┆ str     │\n",
       "╞══════╪════════════════════╪═════╪════════╪═══╪════════════╪══════════╪═════════════╪═════════╡\n",
       "│ 1    ┆ Cory Escobar       ┆ 48  ┆ Female ┆ … ┆ 16         ┆ Active   ┆ New York    ┆ Night   │\n",
       "│ 2    ┆ Timothy Sanchez    ┆ 25  ┆ Other  ┆ … ┆ 11         ┆ Inactive ┆ Los Angeles ┆ Evening │\n",
       "│ 3    ┆ Chad Nichols       ┆ 57  ┆ Other  ┆ … ┆ 1          ┆ Inactive ┆ New York    ┆ Morning │\n",
       "│ 4    ┆ Christine Williams ┆ 58  ┆ Female ┆ … ┆ 13         ┆ Inactive ┆ Los Angeles ┆ Evening │\n",
       "│ 5    ┆ Amber Harris       ┆ 35  ┆ Other  ┆ … ┆ 16         ┆ Inactive ┆ New York    ┆ Evening │\n",
       "│ …    ┆ …                  ┆ …   ┆ …      ┆ … ┆ …          ┆ …        ┆ …           ┆ …       │\n",
       "│ 996  ┆ Pamela Reeves      ┆ 49  ┆ Female ┆ … ┆ 3          ┆ Active   ┆ Los Angeles ┆ Evening │\n",
       "│ 997  ┆ Todd Johnson       ┆ 29  ┆ Female ┆ … ┆ 12         ┆ Inactive ┆ New York    ┆ Morning │\n",
       "│ 998  ┆ Michael Sanchez    ┆ 18  ┆ Male   ┆ … ┆ 3          ┆ Active   ┆ New York    ┆ Morning │\n",
       "│ 999  ┆ Ashley Taylor      ┆ 51  ┆ Female ┆ … ┆ 9          ┆ Inactive ┆ Los Angeles ┆ Evening │\n",
       "│ 1000 ┆ Shawn Scott        ┆ 45  ┆ Male   ┆ … ┆ 4          ┆ Active   ┆ New York    ┆ Morning │\n",
       "└──────┴────────────────────┴─────┴────────┴───┴────────────┴──────────┴─────────────┴─────────┘"
      ]
     },
     "execution_count": 6,
     "metadata": {},
     "output_type": "execute_result"
    }
   ],
   "source": [
    "import polars as pl\n",
    "import numpy as np\n",
    "import matplotlib.pyplot as plt\n",
    "\n",
    "# open the Employe_Performence_dataset\n",
    "df = pl.read_csv('Employe_Performance_dataset.csv')\n",
    "df"
   ]
  },
  {
   "cell_type": "code",
   "execution_count": 11,
   "metadata": {},
   "outputs": [
    {
     "name": "stdout",
     "output_type": "stream",
     "text": [
      "(1000, 12)\n",
      "0\n",
      "shape: (1, 12)\n",
      "┌─────┬──────┬─────┬────────┬───┬────────────┬────────┬──────────┬─────────┐\n",
      "│ ID  ┆ Name ┆ Age ┆ Gender ┆ … ┆ Experience ┆ Status ┆ Location ┆ Session │\n",
      "│ --- ┆ ---  ┆ --- ┆ ---    ┆   ┆ ---        ┆ ---    ┆ ---      ┆ ---     │\n",
      "│ u32 ┆ u32  ┆ u32 ┆ u32    ┆   ┆ u32        ┆ u32    ┆ u32      ┆ u32     │\n",
      "╞═════╪══════╪═════╪════════╪═══╪════════════╪════════╪══════════╪═════════╡\n",
      "│ 0   ┆ 0    ┆ 0   ┆ 0      ┆ … ┆ 0          ┆ 0      ┆ 0        ┆ 0       │\n",
      "└─────┴──────┴─────┴────────┴───┴────────────┴────────┴──────────┴─────────┘\n"
     ]
    }
   ],
   "source": [
    "# find the number of rows and columns \n",
    "print(df.shape)\n",
    "# print the number of duplications  \n",
    "print(df.is_duplicated().sum())\n",
    "# print the number of null\n",
    "print(df.null_count().sum())"
   ]
  },
  {
   "cell_type": "code",
   "execution_count": 14,
   "metadata": {},
   "outputs": [
    {
     "data": {
      "text/html": [
       "<div><style>\n",
       ".dataframe > thead > tr,\n",
       ".dataframe > tbody > tr {\n",
       "  text-align: right;\n",
       "  white-space: pre-wrap;\n",
       "}\n",
       "</style>\n",
       "<small>shape: (1_000, 12)</small><table border=\"1\" class=\"dataframe\"><thead><tr><th>ID</th><th>Name</th><th>Age</th><th>Gender</th><th>Department</th><th>Salary</th><th>Joining Date</th><th>Performance Score</th><th>Experience</th><th>Status</th><th>Location</th><th>Session</th></tr><tr><td>i64</td><td>str</td><td>i64</td><td>str</td><td>str</td><td>i64</td><td>str</td><td>f64</td><td>i64</td><td>str</td><td>str</td><td>str</td></tr></thead><tbody><tr><td>717</td><td>&quot;Jeff Johnson&quot;</td><td>20</td><td>&quot;Other&quot;</td><td>&quot;IT&quot;</td><td>7345</td><td>&quot;2014-12-11&quot;</td><td>null</td><td>11</td><td>&quot;Inactive&quot;</td><td>&quot;New York&quot;</td><td>&quot;Morning&quot;</td></tr><tr><td>383</td><td>&quot;Kelly Norton&quot;</td><td>30</td><td>&quot;Female&quot;</td><td>&quot;IT&quot;</td><td>7241</td><td>&quot;2014-12-18&quot;</td><td>4.0</td><td>1</td><td>&quot;Inactive&quot;</td><td>&quot;New York&quot;</td><td>&quot;Morning&quot;</td></tr><tr><td>44</td><td>&quot;Cindy Nichols&quot;</td><td>64</td><td>&quot;Female&quot;</td><td>&quot;IT&quot;</td><td>2427</td><td>&quot;2014-12-19&quot;</td><td>null</td><td>6</td><td>&quot;Active&quot;</td><td>&quot;New York&quot;</td><td>&quot;Night&quot;</td></tr><tr><td>186</td><td>&quot;Jane Gardner&quot;</td><td>51</td><td>&quot;Other&quot;</td><td>&quot;Sales&quot;</td><td>7894</td><td>&quot;2014-12-29&quot;</td><td>null</td><td>11</td><td>&quot;Inactive&quot;</td><td>&quot;Los Angeles&quot;</td><td>&quot;Night&quot;</td></tr><tr><td>313</td><td>&quot;Sean Barrett&quot;</td><td>26</td><td>&quot;Female&quot;</td><td>&quot;Sales&quot;</td><td>3495</td><td>&quot;2015-01-03&quot;</td><td>1.0</td><td>18</td><td>&quot;Active&quot;</td><td>&quot;Los Angeles&quot;</td><td>&quot;Night&quot;</td></tr><tr><td>&hellip;</td><td>&hellip;</td><td>&hellip;</td><td>&hellip;</td><td>&hellip;</td><td>&hellip;</td><td>&hellip;</td><td>&hellip;</td><td>&hellip;</td><td>&hellip;</td><td>&hellip;</td><td>&hellip;</td></tr><tr><td>478</td><td>&quot;Mary Arias&quot;</td><td>19</td><td>&quot;Male&quot;</td><td>&quot;Sales&quot;</td><td>8893</td><td>&quot;2024-11-14&quot;</td><td>null</td><td>7</td><td>&quot;Active&quot;</td><td>&quot;Chicago&quot;</td><td>&quot;Evening&quot;</td></tr><tr><td>419</td><td>&quot;Sonia Davis&quot;</td><td>27</td><td>&quot;Male&quot;</td><td>&quot;HR&quot;</td><td>5837</td><td>&quot;2024-11-16&quot;</td><td>null</td><td>14</td><td>&quot;Active&quot;</td><td>&quot;New York&quot;</td><td>&quot;Morning&quot;</td></tr><tr><td>245</td><td>&quot;Justin Hampton&quot;</td><td>55</td><td>&quot;Male&quot;</td><td>&quot;IT&quot;</td><td>7725</td><td>&quot;2024-11-22&quot;</td><td>4.0</td><td>10</td><td>&quot;Inactive&quot;</td><td>&quot;New York&quot;</td><td>&quot;Morning&quot;</td></tr><tr><td>936</td><td>&quot;Ryan Vazquez&quot;</td><td>62</td><td>&quot;Female&quot;</td><td>&quot;Sales&quot;</td><td>4369</td><td>&quot;2024-12-04&quot;</td><td>null</td><td>17</td><td>&quot;Active&quot;</td><td>&quot;Chicago&quot;</td><td>&quot;Morning&quot;</td></tr><tr><td>170</td><td>&quot;George Bowers&quot;</td><td>24</td><td>&quot;Other&quot;</td><td>&quot;Sales&quot;</td><td>6041</td><td>&quot;2024-12-07&quot;</td><td>2.0</td><td>4</td><td>&quot;Active&quot;</td><td>&quot;New York&quot;</td><td>&quot;Night&quot;</td></tr></tbody></table></div>"
      ],
      "text/plain": [
       "shape: (1_000, 12)\n",
       "┌─────┬────────────────┬─────┬────────┬───┬────────────┬──────────┬─────────────┬─────────┐\n",
       "│ ID  ┆ Name           ┆ Age ┆ Gender ┆ … ┆ Experience ┆ Status   ┆ Location    ┆ Session │\n",
       "│ --- ┆ ---            ┆ --- ┆ ---    ┆   ┆ ---        ┆ ---      ┆ ---         ┆ ---     │\n",
       "│ i64 ┆ str            ┆ i64 ┆ str    ┆   ┆ i64        ┆ str      ┆ str         ┆ str     │\n",
       "╞═════╪════════════════╪═════╪════════╪═══╪════════════╪══════════╪═════════════╪═════════╡\n",
       "│ 717 ┆ Jeff Johnson   ┆ 20  ┆ Other  ┆ … ┆ 11         ┆ Inactive ┆ New York    ┆ Morning │\n",
       "│ 383 ┆ Kelly Norton   ┆ 30  ┆ Female ┆ … ┆ 1          ┆ Inactive ┆ New York    ┆ Morning │\n",
       "│ 44  ┆ Cindy Nichols  ┆ 64  ┆ Female ┆ … ┆ 6          ┆ Active   ┆ New York    ┆ Night   │\n",
       "│ 186 ┆ Jane Gardner   ┆ 51  ┆ Other  ┆ … ┆ 11         ┆ Inactive ┆ Los Angeles ┆ Night   │\n",
       "│ 313 ┆ Sean Barrett   ┆ 26  ┆ Female ┆ … ┆ 18         ┆ Active   ┆ Los Angeles ┆ Night   │\n",
       "│ …   ┆ …              ┆ …   ┆ …      ┆ … ┆ …          ┆ …        ┆ …           ┆ …       │\n",
       "│ 478 ┆ Mary Arias     ┆ 19  ┆ Male   ┆ … ┆ 7          ┆ Active   ┆ Chicago     ┆ Evening │\n",
       "│ 419 ┆ Sonia Davis    ┆ 27  ┆ Male   ┆ … ┆ 14         ┆ Active   ┆ New York    ┆ Morning │\n",
       "│ 245 ┆ Justin Hampton ┆ 55  ┆ Male   ┆ … ┆ 10         ┆ Inactive ┆ New York    ┆ Morning │\n",
       "│ 936 ┆ Ryan Vazquez   ┆ 62  ┆ Female ┆ … ┆ 17         ┆ Active   ┆ Chicago     ┆ Morning │\n",
       "│ 170 ┆ George Bowers  ┆ 24  ┆ Other  ┆ … ┆ 4          ┆ Active   ┆ New York    ┆ Night   │\n",
       "└─────┴────────────────┴─────┴────────┴───┴────────────┴──────────┴─────────────┴─────────┘"
      ]
     },
     "execution_count": 14,
     "metadata": {},
     "output_type": "execute_result"
    }
   ],
   "source": [
    "# sort the Joining Date column \n",
    "df = df.sort(\"Joining Date\")\n",
    "df"
   ]
  }
 ],
 "metadata": {
  "language_info": {
   "name": "python"
  }
 },
 "nbformat": 4,
 "nbformat_minor": 2
}
